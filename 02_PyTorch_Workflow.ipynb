{
  "nbformat": 4,
  "nbformat_minor": 0,
  "metadata": {
    "colab": {
      "provenance": [],
      "toc_visible": true,
      "authorship_tag": "ABX9TyOeX79+QGdTM6NFYhUifyB5",
      "include_colab_link": true
    },
    "kernelspec": {
      "name": "python3",
      "display_name": "Python 3"
    },
    "language_info": {
      "name": "python"
    }
  },
  "cells": [
    {
      "cell_type": "markdown",
      "metadata": {
        "id": "view-in-github",
        "colab_type": "text"
      },
      "source": [
        "<a href=\"https://colab.research.google.com/github/ChowMeins/PyTorch-Tutorial-freecodecamp/blob/main/02_PyTorch_Workflow.ipynb\" target=\"_parent\"><img src=\"https://colab.research.google.com/assets/colab-badge.svg\" alt=\"Open In Colab\"/></a>"
      ]
    },
    {
      "cell_type": "markdown",
      "source": [
        "### What we're covering:\n",
        "\n",
        "* Data (prepare and load)\n",
        "* Build a model\n",
        "* Fitting the model to data (training)\n",
        "* Making predictions and evaluating a model (inference)\n",
        "* Saving and loading a model\n",
        "* Putting it all together"
      ],
      "metadata": {
        "id": "rltmkuLL2UhY"
      }
    },
    {
      "cell_type": "code",
      "execution_count": null,
      "metadata": {
        "colab": {
          "base_uri": "https://localhost:8080/",
          "height": 36
        },
        "id": "329AQ18019nM",
        "outputId": "02554c28-9556-432e-e79d-805fc335d866"
      },
      "outputs": [
        {
          "output_type": "execute_result",
          "data": {
            "text/plain": [
              "'2.8.0+cu126'"
            ],
            "application/vnd.google.colaboratory.intrinsic+json": {
              "type": "string"
            }
          },
          "metadata": {},
          "execution_count": 328
        }
      ],
      "source": [
        "import torch\n",
        "from torch import nn # nn contains all of PyTorch's building blocks for neural networks\n",
        "import matplotlib.pyplot as plt\n",
        "\n",
        "# Check PyTorch version\n",
        "torch.__version__"
      ]
    },
    {
      "cell_type": "markdown",
      "source": [
        "## 1. Data (preparing and loading)\n",
        "\n",
        "* Excel spreadsheet\n",
        "* Images of any kind\n",
        "* Videos (YouTube has lots of data...)\n",
        "* Audio like songs or podcasts\n",
        "* DNA\n",
        "* Text\n",
        "\n",
        "ML has two parts:\n",
        "1. Get data into a numerical representation\n",
        "2. Build a model to learn patterns in that numerical representation\n",
        "\n",
        "Let's use a linear regression formula to make a straight line w/ known **parameters**."
      ],
      "metadata": {
        "id": "ihsp_Q9b3Zw8"
      }
    },
    {
      "cell_type": "code",
      "source": [
        "# Create *known* parameters\n",
        "weight = 0.7\n",
        "bias = 0.3\n",
        "\n",
        "# Create\n",
        "start = 0\n",
        "end = 1\n",
        "step = 0.02\n",
        "X = torch.arange(start, end, step).unsqueeze(dim=1)\n",
        "y = weight * X + bias # Linear regression formula: y = a + bX\n",
        "X[:10], y[:10]"
      ],
      "metadata": {
        "colab": {
          "base_uri": "https://localhost:8080/"
        },
        "id": "RsCH99dd3X35",
        "outputId": "535407e3-0261-49c6-851f-3e056aad307a"
      },
      "execution_count": null,
      "outputs": [
        {
          "output_type": "execute_result",
          "data": {
            "text/plain": [
              "(tensor([[0.0000],\n",
              "         [0.0200],\n",
              "         [0.0400],\n",
              "         [0.0600],\n",
              "         [0.0800],\n",
              "         [0.1000],\n",
              "         [0.1200],\n",
              "         [0.1400],\n",
              "         [0.1600],\n",
              "         [0.1800]]),\n",
              " tensor([[0.3000],\n",
              "         [0.3140],\n",
              "         [0.3280],\n",
              "         [0.3420],\n",
              "         [0.3560],\n",
              "         [0.3700],\n",
              "         [0.3840],\n",
              "         [0.3980],\n",
              "         [0.4120],\n",
              "         [0.4260]]))"
            ]
          },
          "metadata": {},
          "execution_count": 329
        }
      ]
    },
    {
      "cell_type": "markdown",
      "source": [
        "# Splitting data into training and test sets\n"
      ],
      "metadata": {
        "id": "rf-5Wni56fRg"
      }
    },
    {
      "cell_type": "code",
      "source": [
        "# Splitting data into training and test sets\n",
        "train_split = int(0.8 * len(X))\n",
        "X_train, y_train = X[:train_split], y[:train_split]\n",
        "X_test, y_test = X[train_split:], y[train_split:]\n",
        "\n",
        "len(X_train), len(y_train), len(X_test), len(y_test)"
      ],
      "metadata": {
        "colab": {
          "base_uri": "https://localhost:8080/"
        },
        "id": "xgAbzlpU5Y3y",
        "outputId": "e4669b15-77d6-4ac8-a4b3-ee02d48f1364"
      },
      "execution_count": null,
      "outputs": [
        {
          "output_type": "execute_result",
          "data": {
            "text/plain": [
              "(40, 40, 10, 10)"
            ]
          },
          "metadata": {},
          "execution_count": 330
        }
      ]
    },
    {
      "cell_type": "markdown",
      "source": [
        "# Visualizing data"
      ],
      "metadata": {
        "id": "aN5EA2b27XS0"
      }
    },
    {
      "cell_type": "code",
      "source": [
        "def plot_predictions(train_data=X_train, train_labels=y_train, test_data=X_test, test_labels=y_test, predictions=None):\n",
        "  \"\"\"\n",
        "  Plots training data, test data, and compares predictions\n",
        "  \"\"\"\n",
        "  plt.figure(figsize=(10, 7))\n",
        "\n",
        "  # Plot training data in blue\n",
        "  plt.scatter(train_data, train_labels, c=\"b\", s=4, label=\"Training data\")\n",
        "\n",
        "  # Plot test data in green\n",
        "  plt.scatter(test_data, test_labels, c='g', s=4, label=\"Testing data\")\n",
        "\n",
        "  # Are there predictions?\n",
        "  if predictions is not None:\n",
        "      # Plot the predictions in red (predictions were made on the test data)\n",
        "      plt.scatter(test_data, predictions, c=\"r\", s=4, label=\"Predictions\")\n",
        "  # Show legend\n",
        "  plt.legend(prop={\"size\": 14})"
      ],
      "metadata": {
        "id": "BwhZTGei7aS7"
      },
      "execution_count": null,
      "outputs": []
    },
    {
      "cell_type": "code",
      "source": [
        "plot_predictions()"
      ],
      "metadata": {
        "colab": {
          "base_uri": "https://localhost:8080/",
          "height": 599
        },
        "id": "z1DsQ3Mm8KUH",
        "outputId": "761276d8-2d23-446a-b049-7a41a054592d"
      },
      "execution_count": null,
      "outputs": [
        {
          "output_type": "display_data",
          "data": {
            "text/plain": [
              "<Figure size 1000x700 with 1 Axes>"
            ],
            "image/png": "[encoded data removed]"
          },
          "metadata": {}
        }
      ]
    },
    {
      "cell_type": "markdown",
      "source": [
        "## 2. Build model\n",
        "\n",
        "Very first PyTorch model!\n",
        "\n",
        "What our model does:\n",
        "* Start with random values (weight & bias)\n",
        "* Look at training data and adjust the random values to better represent (or get closer to) the ideal values (the weight & bias values we used to create the data)\n",
        "\n",
        "Two main algorithms:\n",
        "1. Gradient descent\n",
        "2. Back propagation\n"
      ],
      "metadata": {
        "id": "bafp3D0p9Vi6"
      }
    },
    {
      "cell_type": "code",
      "source": [
        "import torch\n",
        "from torch import nn\n",
        "# Create linear regression model class\n",
        "class LinearRegressionModel(nn.Module): # <- almost everything inherits from nn.Module\n",
        "  def __init__(self):\n",
        "    super().__init__()\n",
        "    self.weights = nn.Parameter(torch.rand(1, requires_grad=True, dtype=torch.float))\n",
        "    self.bias = nn.Parameter(torch.rand(1, requires_grad=True, dtype=torch.float))\n",
        "\n",
        "  # Forward method to define the computation in the model\n",
        "  def forward(self, x: torch.Tensor) -> torch.Tensor: # x is the input data, returns\n",
        "    return self.weights * x + self.bias"
      ],
      "metadata": {
        "id": "VGXaBujb8lRP"
      },
      "execution_count": null,
      "outputs": []
    },
    {
      "cell_type": "markdown",
      "source": [
        "### PyTorch building essentials\n",
        "\n",
        "* torch.nn - contains all buildings for computational graphs\n",
        "* torch.nn.Parameter - what parameters should our model try and learn, often a PyTortch layer from torch.nn will set for us\n",
        "* torch.nn.Module - Base class for all Neural Network modules, overwrite forward if subclassed\n",
        "* torch.optim - optimizers in PyTorch, help w/ gradient descent\n",
        "* def forward() - All nn module subclasses require you to overwrite forward(), defines what happens in forward computation\n",
        "\n"
      ],
      "metadata": {
        "id": "eBEgpx6lB1O_"
      }
    },
    {
      "cell_type": "markdown",
      "source": [
        "### Checking the contents of our PyTorch model\n",
        "\n",
        "Check model parameters using .parameters()"
      ],
      "metadata": {
        "id": "okrWGANWBx_v"
      }
    },
    {
      "cell_type": "code",
      "source": [
        "#torch.manual_seed(42)\n",
        "\n",
        "# Create an instance of this model and look at parameters\n",
        "model_0 = LinearRegressionModel()\n",
        "list(model_0.parameters())"
      ],
      "metadata": {
        "colab": {
          "base_uri": "https://localhost:8080/"
        },
        "id": "HX43H9zEEdlU",
        "outputId": "a0623d86-a3eb-4f54-836b-a1f86da09235"
      },
      "execution_count": null,
      "outputs": [
        {
          "output_type": "execute_result",
          "data": {
            "text/plain": [
              "[Parameter containing:\n",
              " tensor([0.8823], requires_grad=True),\n",
              " Parameter containing:\n",
              " tensor([0.9150], requires_grad=True)]"
            ]
          },
          "metadata": {},
          "execution_count": 334
        }
      ]
    },
    {
      "cell_type": "code",
      "source": [
        "# List named parameters\n",
        "model_0.state_dict()"
      ],
      "metadata": {
        "colab": {
          "base_uri": "https://localhost:8080/"
        },
        "id": "lqmLAHLeFfn0",
        "outputId": "ca6d5240-2c52-42e3-c543-6bec18861828"
      },
      "execution_count": null,
      "outputs": [
        {
          "output_type": "execute_result",
          "data": {
            "text/plain": [
              "OrderedDict([('weights', tensor([0.8823])), ('bias', tensor([0.9150]))])"
            ]
          },
          "metadata": {},
          "execution_count": 335
        }
      ]
    },
    {
      "cell_type": "markdown",
      "source": [
        "### Making prediction using `torch.inference_mode()`\n",
        "Let's see how well it predicts y_test based on X_test"
      ],
      "metadata": {
        "id": "qPjqhcfbGMQ4"
      }
    },
    {
      "cell_type": "code",
      "source": [
        "X_test"
      ],
      "metadata": {
        "colab": {
          "base_uri": "https://localhost:8080/"
        },
        "id": "n9H-BbubKUVg",
        "outputId": "50528d58-e1a9-411a-c2ff-2425f496f508"
      },
      "execution_count": null,
      "outputs": [
        {
          "output_type": "execute_result",
          "data": {
            "text/plain": [
              "tensor([[0.8000],\n",
              "        [0.8200],\n",
              "        [0.8400],\n",
              "        [0.8600],\n",
              "        [0.8800],\n",
              "        [0.9000],\n",
              "        [0.9200],\n",
              "        [0.9400],\n",
              "        [0.9600],\n",
              "        [0.9800]])"
            ]
          },
          "metadata": {},
          "execution_count": 336
        }
      ]
    },
    {
      "cell_type": "code",
      "source": [
        "model_0(X_test)"
      ],
      "metadata": {
        "colab": {
          "base_uri": "https://localhost:8080/"
        },
        "id": "LPQDCIU8Huch",
        "outputId": "f27e38b4-7bfb-4557-8f0b-780b444217ed"
      },
      "execution_count": null,
      "outputs": [
        {
          "output_type": "execute_result",
          "data": {
            "text/plain": [
              "tensor([[1.6208],\n",
              "        [1.6385],\n",
              "        [1.6561],\n",
              "        [1.6738],\n",
              "        [1.6914],\n",
              "        [1.7090],\n",
              "        [1.7267],\n",
              "        [1.7443],\n",
              "        [1.7620],\n",
              "        [1.7796]], grad_fn=<AddBackward0>)"
            ]
          },
          "metadata": {},
          "execution_count": 337
        }
      ]
    },
    {
      "cell_type": "code",
      "source": [
        "# Make predictions with model\n",
        "with torch.inference_mode():\n",
        "  y_preds = model_0(X_test)\n",
        "\n",
        "# You can also use torch.no_grad(), but inference_mode() is preferred\n",
        "#with torch.no_grad():\n",
        "#  y_preds = model_0(X_test)\n",
        "\n",
        "y_preds"
      ],
      "metadata": {
        "colab": {
          "base_uri": "https://localhost:8080/"
        },
        "id": "r9HyIdHCGQx9",
        "outputId": "ee1410ff-2fc3-4746-c9a2-9b5edcf8fa43"
      },
      "execution_count": null,
      "outputs": [
        {
          "output_type": "execute_result",
          "data": {
            "text/plain": [
              "tensor([[1.6208],\n",
              "        [1.6385],\n",
              "        [1.6561],\n",
              "        [1.6738],\n",
              "        [1.6914],\n",
              "        [1.7090],\n",
              "        [1.7267],\n",
              "        [1.7443],\n",
              "        [1.7620],\n",
              "        [1.7796]])"
            ]
          },
          "metadata": {},
          "execution_count": 338
        }
      ]
    },
    {
      "cell_type": "code",
      "source": [
        "X_test, y_test"
      ],
      "metadata": {
        "colab": {
          "base_uri": "https://localhost:8080/"
        },
        "id": "ZrvA1Uu6Giep",
        "outputId": "9d447eff-ba6f-4ca4-d4b6-4a3846544c7e"
      },
      "execution_count": null,
      "outputs": [
        {
          "output_type": "execute_result",
          "data": {
            "text/plain": [
              "(tensor([[0.8000],\n",
              "         [0.8200],\n",
              "         [0.8400],\n",
              "         [0.8600],\n",
              "         [0.8800],\n",
              "         [0.9000],\n",
              "         [0.9200],\n",
              "         [0.9400],\n",
              "         [0.9600],\n",
              "         [0.9800]]),\n",
              " tensor([[0.8600],\n",
              "         [0.8740],\n",
              "         [0.8880],\n",
              "         [0.9020],\n",
              "         [0.9160],\n",
              "         [0.9300],\n",
              "         [0.9440],\n",
              "         [0.9580],\n",
              "         [0.9720],\n",
              "         [0.9860]]))"
            ]
          },
          "metadata": {},
          "execution_count": 339
        }
      ]
    },
    {
      "cell_type": "code",
      "source": [
        "plot_predictions(predictions=y_preds)"
      ],
      "metadata": {
        "colab": {
          "base_uri": "https://localhost:8080/",
          "height": 599
        },
        "id": "T918YlS9HSYy",
        "outputId": "19cec3d6-4859-4eb9-cf10-f70d0a938240"
      },
      "execution_count": null,
      "outputs": [
        {
          "output_type": "display_data",
          "data": {
            "text/plain": [
              "<Figure size 1000x700 with 1 Axes>"
            ],
            "image/png": "[encoded data removed]"
          },
          "metadata": {}
        }
      ]
    },
    {
      "cell_type": "markdown",
      "source": [
        "## 3. Train model\n",
        "\n",
        "The idea of training is for a model to move from some unknown parameters (may be random) to some known parameters.\n",
        "\n",
        "In other words, from a poor representation -> better representation of data\n",
        "\n",
        "One way to measure how poor or how wrong a model's predictions are is to use a loss function.\n",
        "\n",
        "Things we need to train:\n",
        "\n",
        "* **Loss Function:** A function to measure how wrong your model's predictions are to the ideal outputs, lower is better\n",
        "* **Optimizer:** Takes into account the loss of a model and adjusts the model's parameters (e.g. weight & bias)\n",
        "\n",
        "And specifically for PyTorch, we need:\n",
        "* A training loop\n",
        "* A testing loop"
      ],
      "metadata": {
        "id": "pQCmb8EWI4Rh"
      }
    },
    {
      "cell_type": "code",
      "source": [
        "# See our model's parameters (a parameter is a value that the model sets itself)\n",
        "model_0.state_dict()"
      ],
      "metadata": {
        "colab": {
          "base_uri": "https://localhost:8080/"
        },
        "id": "1J0C_HmuI_6n",
        "outputId": "eaa3b9f7-f8c9-4d70-fc0f-72184283d46b"
      },
      "execution_count": null,
      "outputs": [
        {
          "output_type": "execute_result",
          "data": {
            "text/plain": [
              "OrderedDict([('weights', tensor([0.8823])), ('bias', tensor([0.9150]))])"
            ]
          },
          "metadata": {},
          "execution_count": 341
        }
      ]
    },
    {
      "cell_type": "markdown",
      "source": [
        "**Which loss function and optimizer to use?**\n",
        "\n",
        "Depends on the problem, but with experience you have an idea of what works/doesn't."
      ],
      "metadata": {
        "id": "pJf9qrMeOBkr"
      }
    },
    {
      "cell_type": "code",
      "source": [
        "# Setup a loss function\n",
        "loss_fn = nn.L1Loss() # MAE loss is same as L1Loss\n",
        "\n",
        "# Set up an optimizer\n",
        "optimizer = torch.optim.SGD(params=model_0.parameters(), lr=0.01) # lr = learning rate, one of the most important hyperparameter you can set"
      ],
      "metadata": {
        "id": "AmZjO0tyLrrC"
      },
      "execution_count": null,
      "outputs": []
    },
    {
      "cell_type": "markdown",
      "source": [
        "### Building a training loop (and a testing loop) in PyTorch\n",
        "\n",
        "Things we need in a training loop:\n",
        "1. Loop through data\n",
        "2. Forward pass (involves data moving through our model's `forward()` function) to make predictions on data (also called forward propagation)\n",
        "3. Calculate the loss (compare forward pass predictions to ground truth labels)\n",
        "4. Optimizer zero grad\n",
        "5. Loss backward - moves backwards through the network to calculate the gradients of each of the parameters of our model with respect to the loss\n",
        "6. Optimizer step - use the optimizer to adjust our model's parameters to try and improve the loss (**gradient descent**)"
      ],
      "metadata": {
        "id": "gv3tnlgaLs6b"
      }
    },
    {
      "cell_type": "code",
      "source": [
        "torch.manual_seed(42)\n",
        "epoch_count = []\n",
        "train_loss_values = []\n",
        "test_loss_values = []\n",
        "\n",
        "# Epoch - 1 loop through the data (a hyperparameter because we've set it ourselves)\n",
        "epochs = 200\n",
        "\n",
        "# 1. Loop through data\n",
        "for epoch in range(epochs):\n",
        "  # Set the model to training mode\n",
        "  model_0.train() # Sets all parameters that require gradients to require gradients\n",
        "\n",
        "  # 1. Forward pass\n",
        "  y_pred = model_0(X_train)\n",
        "\n",
        "  # 2. Calculate the loss\n",
        "  loss = loss_fn(y_pred, y_train)\n",
        "  print(f\"Loss: {loss}\")\n",
        "  # 3. Optimizer zero grad - zero the gradients of the optimzier (they accumulate by default)\n",
        "  optimizer.zero_grad()\n",
        "\n",
        "  # 4. Perform back propagation on the loss w/ respect to the parameters of the model\n",
        "  loss.backward()\n",
        "\n",
        "  # 5. Step the optimizer (perform gradient descent)\n",
        "  optimizer.step() # By default how the optimizer changes will accumulate through the loop, so we have to zero them above in step 3 for the next iteration of the loop\n",
        "\n",
        "  ### Testing\n",
        "  model_0.eval() # turns off gradient in the model not needed for evaluation/testing (dropout/batch norm layers)\n",
        "  with torch.inference_mode(): # turns off gradient tracking\n",
        "    # 1. Forward pass\n",
        "    test_pred = model_0(X_test)\n",
        "\n",
        "    # 2. Calculate the loss\n",
        "    test_loss = loss_fn(test_pred, y_test)\n",
        "    if epoch % 10 == 0:\n",
        "      print(f\"Epoch: {epoch} | Loss: {loss} | Test loss: {test_loss}\")\n",
        "      epoch_count.append(epoch)\n",
        "      train_loss_values.append(loss.numpy())\n",
        "      test_loss_values.append(test_loss.numpy())\n",
        "  #print(model_0.state_dict())"
      ],
      "metadata": {
        "colab": {
          "base_uri": "https://localhost:8080/"
        },
        "id": "Wv7jc6NxOdOu",
        "outputId": "624bb66d-90ff-4d23-88e8-fec94aa35e6b"
      },
      "execution_count": null,
      "outputs": [
        {
          "output_type": "stream",
          "name": "stdout",
          "text": [
            "Loss: 0.6860889196395874\n",
            "Epoch: 0 | Loss: 0.6860889196395874 | Test loss: 0.7637526988983154\n",
            "Loss: 0.6745679974555969\n",
            "Loss: 0.6630470156669617\n",
            "Loss: 0.6515260338783264\n",
            "Loss: 0.6400049924850464\n",
            "Loss: 0.6284840703010559\n",
            "Loss: 0.6169630289077759\n",
            "Loss: 0.6054420471191406\n",
            "Loss: 0.5939210653305054\n",
            "Loss: 0.5824000239372253\n",
            "Loss: 0.5708791017532349\n",
            "Epoch: 10 | Loss: 0.5708791017532349 | Test loss: 0.6290428042411804\n",
            "Loss: 0.5593580603599548\n",
            "Loss: 0.5478371381759644\n",
            "Loss: 0.5363161563873291\n",
            "Loss: 0.5247951149940491\n",
            "Loss: 0.5132741332054138\n",
            "Loss: 0.5017532110214233\n",
            "Loss: 0.4902321696281433\n",
            "Loss: 0.47871121764183044\n",
            "Loss: 0.4671902060508728\n",
            "Loss: 0.45566922426223755\n",
            "Epoch: 20 | Loss: 0.45566922426223755 | Test loss: 0.4943329691886902\n",
            "Loss: 0.4441482126712799\n",
            "Loss: 0.43262726068496704\n",
            "Loss: 0.4211062490940094\n",
            "Loss: 0.40958523750305176\n",
            "Loss: 0.3980643153190613\n",
            "Loss: 0.38654330372810364\n",
            "Loss: 0.375022292137146\n",
            "Loss: 0.36350134015083313\n",
            "Loss: 0.3519803285598755\n",
            "Loss: 0.34045934677124023\n",
            "Epoch: 30 | Loss: 0.34045934677124023 | Test loss: 0.35962313413619995\n",
            "Loss: 0.328938364982605\n",
            "Loss: 0.31741735339164734\n",
            "Loss: 0.3058963716030121\n",
            "Loss: 0.2943754196166992\n",
            "Loss: 0.2828544080257416\n",
            "Loss: 0.2713334262371063\n",
            "Loss: 0.25981244444847107\n",
            "Loss: 0.24829146265983582\n",
            "Loss: 0.23677048087120056\n",
            "Loss: 0.2252494841814041\n",
            "Epoch: 40 | Loss: 0.2252494841814041 | Test loss: 0.2249133139848709\n",
            "Loss: 0.21372847259044647\n",
            "Loss: 0.20220749080181122\n",
            "Loss: 0.19068653881549835\n",
            "Loss: 0.1791655272245407\n",
            "Loss: 0.16764454543590546\n",
            "Loss: 0.156123548746109\n",
            "Loss: 0.14460256695747375\n",
            "Loss: 0.1330815702676773\n",
            "Loss: 0.12156059592962265\n",
            "Loss: 0.1100396141409874\n",
            "Epoch: 50 | Loss: 0.1100396141409874 | Test loss: 0.09020347893238068\n",
            "Loss: 0.09851861745119095\n",
            "Loss: 0.0869976356625557\n",
            "Loss: 0.07547664642333984\n",
            "Loss: 0.06395565718412399\n",
            "Loss: 0.05243467539548874\n",
            "Loss: 0.04091368243098259\n",
            "Loss: 0.029392695054411888\n",
            "Loss: 0.017871711403131485\n",
            "Loss: 0.010616960003972054\n",
            "Loss: 0.009724985808134079\n",
            "Epoch: 60 | Loss: 0.009724985808134079 | Test loss: 0.020998019725084305\n",
            "Loss: 0.009325616993010044\n",
            "Loss: 0.00897279754281044\n",
            "Loss: 0.008620461449027061\n",
            "Loss: 0.008283796720206738\n",
            "Loss: 0.007935261353850365\n",
            "Loss: 0.007594785653054714\n",
            "Loss: 0.007250060793012381\n",
            "Loss: 0.00690577644854784\n",
            "Loss: 0.0065648676827549934\n",
            "Loss: 0.006216754671186209\n",
            "Epoch: 70 | Loss: 0.006216754671186209 | Test loss: 0.014099234715104103\n",
            "Loss: 0.005879654549062252\n",
            "Loss: 0.0055306581780314445\n",
            "Loss: 0.0051915524527430534\n",
            "Loss: 0.0048454562202095985\n",
            "Loss: 0.004502544645220041\n",
            "Loss: 0.004160256590694189\n",
            "Loss: 0.00381353497505188\n",
            "Loss: 0.003475042525678873\n",
            "Loss: 0.003126060124486685\n",
            "Loss: 0.002788322512060404\n",
            "Epoch: 80 | Loss: 0.002788322512060404 | Test loss: 0.005826681852340698\n",
            "Loss: 0.0024408488534390926\n",
            "Loss: 0.002099317265674472\n",
            "Loss: 0.0017560191918164492\n",
            "Loss: 0.001492114388383925\n",
            "Loss: 0.0019509084522724152\n",
            "Loss: 0.007095950655639172\n",
            "Loss: 0.004425036255270243\n",
            "Loss: 0.007095950655639172\n",
            "Loss: 0.004425036255270243\n",
            "Loss: 0.007095950655639172\n",
            "Epoch: 90 | Loss: 0.007095950655639172 | Test loss: 0.00754010071977973\n",
            "Loss: 0.004425036255270243\n",
            "Loss: 0.007095950655639172\n",
            "Loss: 0.004425036255270243\n",
            "Loss: 0.007095950655639172\n",
            "Loss: 0.004425036255270243\n",
            "Loss: 0.007095950655639172\n",
            "Loss: 0.004425036255270243\n",
            "Loss: 0.007095950655639172\n",
            "Loss: 0.004425036255270243\n",
            "Loss: 0.007095950655639172\n",
            "Epoch: 100 | Loss: 0.007095950655639172 | Test loss: 0.00754010071977973\n",
            "Loss: 0.004425036255270243\n",
            "Loss: 0.007095950655639172\n",
            "Loss: 0.004425036255270243\n",
            "Loss: 0.007095950655639172\n",
            "Loss: 0.004425036255270243\n",
            "Loss: 0.007095950655639172\n",
            "Loss: 0.004425036255270243\n",
            "Loss: 0.007095950655639172\n",
            "Loss: 0.004425036255270243\n",
            "Loss: 0.007095950655639172\n",
            "Epoch: 110 | Loss: 0.007095950655639172 | Test loss: 0.00754010071977973\n",
            "Loss: 0.004425036255270243\n",
            "Loss: 0.007095950655639172\n",
            "Loss: 0.004425036255270243\n",
            "Loss: 0.007095950655639172\n",
            "Loss: 0.004425036255270243\n",
            "Loss: 0.007095950655639172\n",
            "Loss: 0.004425036255270243\n",
            "Loss: 0.007095950655639172\n",
            "Loss: 0.004425036255270243\n",
            "Loss: 0.007095950655639172\n",
            "Epoch: 120 | Loss: 0.007095950655639172 | Test loss: 0.00754010071977973\n",
            "Loss: 0.004425036255270243\n",
            "Loss: 0.007095950655639172\n",
            "Loss: 0.004425036255270243\n",
            "Loss: 0.007095950655639172\n",
            "Loss: 0.004425036255270243\n",
            "Loss: 0.007095950655639172\n",
            "Loss: 0.004425036255270243\n",
            "Loss: 0.007095950655639172\n",
            "Loss: 0.004425036255270243\n",
            "Loss: 0.007095950655639172\n",
            "Epoch: 130 | Loss: 0.007095950655639172 | Test loss: 0.00754010071977973\n",
            "Loss: 0.004425036255270243\n",
            "Loss: 0.007095950655639172\n",
            "Loss: 0.004425036255270243\n",
            "Loss: 0.007095950655639172\n",
            "Loss: 0.004425036255270243\n",
            "Loss: 0.007095950655639172\n",
            "Loss: 0.004425036255270243\n",
            "Loss: 0.007095950655639172\n",
            "Loss: 0.004425036255270243\n",
            "Loss: 0.007095950655639172\n",
            "Epoch: 140 | Loss: 0.007095950655639172 | Test loss: 0.00754010071977973\n",
            "Loss: 0.004425036255270243\n",
            "Loss: 0.007095950655639172\n",
            "Loss: 0.004425036255270243\n",
            "Loss: 0.007095950655639172\n",
            "Loss: 0.004425036255270243\n",
            "Loss: 0.007095950655639172\n",
            "Loss: 0.004425036255270243\n",
            "Loss: 0.007095950655639172\n",
            "Loss: 0.004425036255270243\n",
            "Loss: 0.007095950655639172\n",
            "Epoch: 150 | Loss: 0.007095950655639172 | Test loss: 0.00754010071977973\n",
            "Loss: 0.004425036255270243\n",
            "Loss: 0.007095950655639172\n",
            "Loss: 0.004425036255270243\n",
            "Loss: 0.007095950655639172\n",
            "Loss: 0.004425036255270243\n",
            "Loss: 0.007095950655639172\n",
            "Loss: 0.004425036255270243\n",
            "Loss: 0.007095950655639172\n",
            "Loss: 0.004425036255270243\n",
            "Loss: 0.007095950655639172\n",
            "Epoch: 160 | Loss: 0.007095950655639172 | Test loss: 0.00754010071977973\n",
            "Loss: 0.004425036255270243\n",
            "Loss: 0.007095950655639172\n",
            "Loss: 0.004425036255270243\n",
            "Loss: 0.007095950655639172\n",
            "Loss: 0.004425036255270243\n",
            "Loss: 0.007095950655639172\n",
            "Loss: 0.004425036255270243\n",
            "Loss: 0.007095950655639172\n",
            "Loss: 0.004425036255270243\n",
            "Loss: 0.007095950655639172\n",
            "Epoch: 170 | Loss: 0.007095950655639172 | Test loss: 0.00754010071977973\n",
            "Loss: 0.004425036255270243\n",
            "Loss: 0.007095950655639172\n",
            "Loss: 0.004425036255270243\n",
            "Loss: 0.007095950655639172\n",
            "Loss: 0.004425036255270243\n",
            "Loss: 0.007095950655639172\n",
            "Loss: 0.004425036255270243\n",
            "Loss: 0.007095950655639172\n",
            "Loss: 0.004425036255270243\n",
            "Loss: 0.007095950655639172\n",
            "Epoch: 180 | Loss: 0.007095950655639172 | Test loss: 0.00754010071977973\n",
            "Loss: 0.004425036255270243\n",
            "Loss: 0.007095950655639172\n",
            "Loss: 0.004425036255270243\n",
            "Loss: 0.007095950655639172\n",
            "Loss: 0.004425036255270243\n",
            "Loss: 0.007095950655639172\n",
            "Loss: 0.004425036255270243\n",
            "Loss: 0.007095950655639172\n",
            "Loss: 0.004425036255270243\n",
            "Loss: 0.007095950655639172\n",
            "Epoch: 190 | Loss: 0.007095950655639172 | Test loss: 0.00754010071977973\n",
            "Loss: 0.004425036255270243\n",
            "Loss: 0.007095950655639172\n",
            "Loss: 0.004425036255270243\n",
            "Loss: 0.007095950655639172\n",
            "Loss: 0.004425036255270243\n",
            "Loss: 0.007095950655639172\n",
            "Loss: 0.004425036255270243\n",
            "Loss: 0.007095950655639172\n",
            "Loss: 0.004425036255270243\n"
          ]
        }
      ]
    },
    {
      "cell_type": "code",
      "source": [
        "with torch.inference_mode():\n",
        "  y_preds_new = model_0(X_test)"
      ],
      "metadata": {
        "id": "J-AxO6alX8g_"
      },
      "execution_count": null,
      "outputs": []
    },
    {
      "cell_type": "code",
      "source": [
        "plot_predictions(predictions=y_preds_new)"
      ],
      "metadata": {
        "colab": {
          "base_uri": "https://localhost:8080/",
          "height": 599
        },
        "id": "P2Ec8giGYQtn",
        "outputId": "8e414b26-3345-47c4-eced-af08ee5a5abe"
      },
      "execution_count": null,
      "outputs": [
        {
          "output_type": "display_data",
          "data": {
            "text/plain": [
              "<Figure size 1000x700 with 1 Axes>"
            ],
            "image/png": "[encoded data removed]"
          },
          "metadata": {}
        }
      ]
    },
    {
      "cell_type": "code",
      "source": [
        "weight, bias"
      ],
      "metadata": {
        "colab": {
          "base_uri": "https://localhost:8080/"
        },
        "id": "AvHGDf2DXEWk",
        "outputId": "9b19dff0-ad49-4a72-ceb2-6674200564ae"
      },
      "execution_count": null,
      "outputs": [
        {
          "output_type": "execute_result",
          "data": {
            "text/plain": [
              "(0.7, 0.3)"
            ]
          },
          "metadata": {},
          "execution_count": 346
        }
      ]
    },
    {
      "cell_type": "code",
      "source": [
        "plt.plot(epoch_count, train_loss_values, label=\"Train loss\")\n",
        "plt.plot(epoch_count, test_loss_values, label=\"Test loss\")\n",
        "plt.title(\"Training and test loss curves\")\n",
        "plt.ylabel(\"Loss\")\n",
        "plt.xlabel(\"Epochs\")\n",
        "plt.legend()"
      ],
      "metadata": {
        "colab": {
          "base_uri": "https://localhost:8080/",
          "height": 489
        },
        "id": "Kq8Re-HccY2W",
        "outputId": "15a68bac-5d9d-4aaa-a6e9-ccbb2d9adaed"
      },
      "execution_count": null,
      "outputs": [
        {
          "output_type": "execute_result",
          "data": {
            "text/plain": [
              "<matplotlib.legend.Legend at 0x7d344c7e2b70>"
            ]
          },
          "metadata": {},
          "execution_count": 347
        },
        {
          "output_type": "display_data",
          "data": {
            "text/plain": [
              "<Figure size 640x480 with 1 Axes>"
            ],
            "image/png": "[encoded data removed]"
          },
          "metadata": {}
        }
      ]
    },
    {
      "cell_type": "markdown",
      "source": [
        "## Saving a model in PyTorch\n",
        "\n",
        "There are 3 main methods to save and load modals in PyTorch\n",
        "\n",
        "1. `torch.save()` - saves a PyTorch object in Python's pickle format\n",
        "2. `torch.load()` - loads a saved PyTorch object\n",
        "3. `torch.nn.Module.load_state_dict()` - loads a model's saved satate dictionary"
      ],
      "metadata": {
        "id": "9qHTEkUUe7Db"
      }
    },
    {
      "cell_type": "code",
      "source": [
        "from pathlib import Path\n",
        "\n",
        "# 1. Create models directory\n",
        "MODEL_PATH = Path(\"models\")\n",
        "MODEL_PATH.mkdir(parents=True, exist_ok=True)\n",
        "\n",
        "# 2. Create model save path\n",
        "MODEL_NAME = \"01_pytorch_workflow_model.pth\"\n",
        "MODEL_SAVE_PATH = MODEL_PATH / MODEL_NAME\n",
        "\n",
        "# 3. Save the model state_dict()\n",
        "print(f\"Saving model to: {MODEL_SAVE_PATH}\")\n",
        "torch.save(obj=model_0.state_dict(), f=MODEL_SAVE_PATH)"
      ],
      "metadata": {
        "colab": {
          "base_uri": "https://localhost:8080/"
        },
        "id": "HHndW7CBf6f9",
        "outputId": "ce9048f7-8c3a-4a27-fe41-fd855c06a72d"
      },
      "execution_count": null,
      "outputs": [
        {
          "output_type": "stream",
          "name": "stdout",
          "text": [
            "Saving model to: models/01_pytorch_workflow_model.pth\n"
          ]
        }
      ]
    },
    {
      "cell_type": "code",
      "source": [
        "# To load in a saved state_dict, instantate a new instance of our model class\n",
        "loaded_model_0 = LinearRegressionModel()\n",
        "\n",
        "# Load the saved state_dict of model_0\n",
        "loaded_model_0.load_state_dict(torch.load(f=MODEL_SAVE_PATH))"
      ],
      "metadata": {
        "colab": {
          "base_uri": "https://localhost:8080/"
        },
        "id": "uk6gAoO6hUZ-",
        "outputId": "f030e674-cde8-4906-e7e1-ed4aa48bfff8"
      },
      "execution_count": null,
      "outputs": [
        {
          "output_type": "execute_result",
          "data": {
            "text/plain": [
              "<All keys matched successfully>"
            ]
          },
          "metadata": {},
          "execution_count": 351
        }
      ]
    },
    {
      "cell_type": "code",
      "source": [
        "loaded_model_0.state_dict()"
      ],
      "metadata": {
        "colab": {
          "base_uri": "https://localhost:8080/"
        },
        "id": "hOyzBYSShhxB",
        "outputId": "ff28bfaf-f543-4bfb-8bca-b8b1aa1b84cc"
      },
      "execution_count": null,
      "outputs": [
        {
          "output_type": "execute_result",
          "data": {
            "text/plain": [
              "OrderedDict([('weights', tensor([0.6977])), ('bias', tensor([0.3080]))])"
            ]
          },
          "metadata": {},
          "execution_count": 353
        }
      ]
    },
    {
      "cell_type": "code",
      "source": [
        "# Make some predictions\n",
        "loaded_model_0.eval()\n",
        "with torch.inference_mode():\n",
        "  loaded_model_preds = loaded_model_0(X_test)\n",
        "\n",
        "loaded_model_preds\n",
        "\n",
        "y_preds == loaded_model_preds"
      ],
      "metadata": {
        "colab": {
          "base_uri": "https://localhost:8080/"
        },
        "id": "QBwmqGpDhm8i",
        "outputId": "c46d3686-a2f3-43fc-8d00-dcaf556c02ce"
      },
      "execution_count": null,
      "outputs": [
        {
          "output_type": "execute_result",
          "data": {
            "text/plain": [
              "tensor([[False],\n",
              "        [False],\n",
              "        [False],\n",
              "        [False],\n",
              "        [False],\n",
              "        [False],\n",
              "        [False],\n",
              "        [False],\n",
              "        [False],\n",
              "        [False]])"
            ]
          },
          "metadata": {},
          "execution_count": 355
        }
      ]
    },
    {
      "cell_type": "markdown",
      "source": [
        "### 6. Putting it all together"
      ],
      "metadata": {
        "id": "vrl-fY-LnGDk"
      }
    },
    {
      "cell_type": "code",
      "source": [
        "import torch\n",
        "from torch import nn\n",
        "import matplotlib.pyplot as plt\n",
        "\n",
        "torch.__version__"
      ],
      "metadata": {
        "colab": {
          "base_uri": "https://localhost:8080/",
          "height": 36
        },
        "id": "bWwF0oPanJbo",
        "outputId": "126d2f03-1bed-4f67-90e9-6f2253e7db19"
      },
      "execution_count": null,
      "outputs": [
        {
          "output_type": "execute_result",
          "data": {
            "text/plain": [
              "'2.8.0+cu126'"
            ],
            "application/vnd.google.colaboratory.intrinsic+json": {
              "type": "string"
            }
          },
          "metadata": {},
          "execution_count": 358
        }
      ]
    },
    {
      "cell_type": "code",
      "source": [
        "device = \"cuda\" if torch.cuda.is_available() else \"cpu\"\n",
        "device"
      ],
      "metadata": {
        "colab": {
          "base_uri": "https://localhost:8080/",
          "height": 36
        },
        "id": "pHEGnt4fnO2m",
        "outputId": "7509accd-1f49-4a58-f6ca-0a157890360c"
      },
      "execution_count": null,
      "outputs": [
        {
          "output_type": "execute_result",
          "data": {
            "text/plain": [
              "'cpu'"
            ],
            "application/vnd.google.colaboratory.intrinsic+json": {
              "type": "string"
            }
          },
          "metadata": {},
          "execution_count": 359
        }
      ]
    },
    {
      "cell_type": "code",
      "source": [
        "# Create some of the data using the linear regression formula, y = weight * X + bias\n",
        "weight = 0.8\n",
        "bias = 0.2\n",
        "\n",
        "# Create range values\n",
        "X = torch.arange(start=0, end=1, step=0.02).unsqueeze(dim=1)\n",
        "y = weight * X + bias"
      ],
      "metadata": {
        "id": "aKyvAXYFn1gH"
      },
      "execution_count": null,
      "outputs": []
    },
    {
      "cell_type": "code",
      "source": [
        "# Split the data\n",
        "train_split = int(0.8 * len(X))\n",
        "\n",
        "X_train, y_train = X[:train_split], y[:train_split]\n",
        "X_test, y_test = X[train_split:], y[train_split:]\n",
        "\n",
        "len(X_train), len(y_train), len(X_test), len(y_test)"
      ],
      "metadata": {
        "colab": {
          "base_uri": "https://localhost:8080/"
        },
        "id": "MpU4CbjVoPPZ",
        "outputId": "1bdb1c8e-9aa3-46ee-e3d1-306fba2f5c02"
      },
      "execution_count": null,
      "outputs": [
        {
          "output_type": "execute_result",
          "data": {
            "text/plain": [
              "(40, 40, 10, 10)"
            ]
          },
          "metadata": {},
          "execution_count": 367
        }
      ]
    },
    {
      "cell_type": "code",
      "source": [
        "plot_predictions(X_train, y_train, X_test, y_test)"
      ],
      "metadata": {
        "colab": {
          "base_uri": "https://localhost:8080/",
          "height": 599
        },
        "id": "oCHXN6VLovco",
        "outputId": "1e24aad2-102c-465d-f938-3e51e51022fc"
      },
      "execution_count": null,
      "outputs": [
        {
          "output_type": "display_data",
          "data": {
            "text/plain": [
              "<Figure size 1000x700 with 1 Axes>"
            ],
            "image/png": "[encoded data removed]"
          },
          "metadata": {}
        }
      ]
    },
    {
      "cell_type": "code",
      "source": [],
      "metadata": {
        "id": "SeUagm-0pJjI"
      },
      "execution_count": null,
      "outputs": []
    },
    {
      "cell_type": "markdown",
      "source": [
        "## 6.2 Building a PyTorch Linear Model"
      ],
      "metadata": {
        "id": "tdgS8VAjpGgC"
      }
    },
    {
      "cell_type": "code",
      "source": [
        "class LinearRegressionModelV2(nn.Module):\n",
        "  def __init__(self):\n",
        "    super().__init__()\n",
        "    # Use nn.Linear() for creating the model parameters / also called: linear transform, probing layer, fully connected layer, dense layer\n",
        "    self.linear_layer = nn.Linear(in_features=1, out_features=1)\n",
        "  def forward(self, x: torch.Tensor):\n",
        "    return self.linear_layer(x)\n",
        "\n",
        "torch.manual_seed(42)\n",
        "model_1 = LinearRegressionModelV2()\n",
        "model_1.state_dict()"
      ],
      "metadata": {
        "colab": {
          "base_uri": "https://localhost:8080/"
        },
        "id": "ql0bFoc_pUl6",
        "outputId": "ef57e2c2-f982-41ab-8dc9-dc6c81d43971"
      },
      "execution_count": null,
      "outputs": [
        {
          "output_type": "execute_result",
          "data": {
            "text/plain": [
              "OrderedDict([('linear_layer.weight', tensor([[0.7645]])),\n",
              "             ('linear_layer.bias', tensor([0.8300]))])"
            ]
          },
          "metadata": {},
          "execution_count": 378
        }
      ]
    },
    {
      "cell_type": "markdown",
      "source": [
        "## 6.3 Training\n",
        "\n",
        "For training we need:\n",
        "* Loss Function\n",
        "* Optimizer\n",
        "* Training Loop\n",
        "* Testing Loop"
      ],
      "metadata": {
        "id": "AvJegTlRrWlW"
      }
    },
    {
      "cell_type": "code",
      "source": [
        "# Setup loss function\n",
        "loss_fn = nn.L1Loss() # same as MAE\n",
        "\n",
        "# Setup optimizer\n",
        "optimizer = torch.optim.SGD(params=model_1.parameters(), lr=0.01)"
      ],
      "metadata": {
        "id": "KOAm4uXTr9GW"
      },
      "execution_count": null,
      "outputs": []
    },
    {
      "cell_type": "code",
      "source": [
        "# Write the training loop\n",
        "epochs = 200\n",
        "\n",
        "for epoch in range(epochs):\n",
        "  model_1.train()\n",
        "\n",
        "  # 1. Forward pass\n",
        "  y_pred = model_1(X_train)\n",
        "\n",
        "  # 2. Calculate the loss\n",
        "  loss = loss_fn(y_pred, y_train)\n",
        "\n",
        "  # 3. Optimizer zero grad\n",
        "  optimizer.zero_grad()\n",
        "\n",
        "  # 4. Perform back propagation\n",
        "  loss.backward()\n",
        "\n",
        "  # 5. Optimizer step\n",
        "  optimizer.step()\n",
        "\n",
        "  ### Testing\n",
        "  model_1.eval()\n",
        "  with torch.inference_mode():\n",
        "    test_pred = model_1(X_test)\n",
        "    test_loss = loss_fn(test_pred, y_test)\n",
        "    if epoch % 10 == 0:\n",
        "      print(f\"Epoch: {epoch} | Loss: {loss} | Test loss: {test_loss}\")"
      ],
      "metadata": {
        "colab": {
          "base_uri": "https://localhost:8080/"
        },
        "id": "Lct4xg5gsUu8",
        "outputId": "debe2472-8d85-42be-bf36-236623e20be2"
      },
      "execution_count": null,
      "outputs": [
        {
          "output_type": "stream",
          "name": "stdout",
          "text": [
            "Epoch: 0 | Loss: 0.6161779165267944 | Test loss: 0.584976315498352\n",
            "Epoch: 10 | Loss: 0.5009680986404419 | Test loss: 0.45026636123657227\n",
            "Epoch: 20 | Loss: 0.3857582211494446 | Test loss: 0.3155565857887268\n",
            "Epoch: 30 | Loss: 0.2705483138561249 | Test loss: 0.18084672093391418\n",
            "Epoch: 40 | Loss: 0.15533843636512756 | Test loss: 0.04613689333200455\n",
            "Epoch: 50 | Loss: 0.05875825136899948 | Test loss: 0.06886560469865799\n",
            "Epoch: 60 | Loss: 0.04580377787351608 | Test loss: 0.0947304219007492\n",
            "Epoch: 70 | Loss: 0.04181947931647301 | Test loss: 0.09405827522277832\n",
            "Epoch: 80 | Loss: 0.03831038624048233 | Test loss: 0.08853326737880707\n",
            "Epoch: 90 | Loss: 0.034879542887210846 | Test loss: 0.08094760030508041\n",
            "Epoch: 100 | Loss: 0.03144557401537895 | Test loss: 0.07267506420612335\n",
            "Epoch: 110 | Loss: 0.028006773442029953 | Test loss: 0.0644025206565857\n",
            "Epoch: 120 | Loss: 0.024577608332037926 | Test loss: 0.056816864758729935\n",
            "Epoch: 130 | Loss: 0.021141955628991127 | Test loss: 0.04854437708854675\n",
            "Epoch: 140 | Loss: 0.017704108729958534 | Test loss: 0.04095881059765816\n",
            "Epoch: 150 | Loss: 0.014275660738348961 | Test loss: 0.03268631175160408\n",
            "Epoch: 160 | Loss: 0.010838326066732407 | Test loss: 0.02441384270787239\n",
            "Epoch: 170 | Loss: 0.007402160204946995 | Test loss: 0.016828250139951706\n",
            "Epoch: 180 | Loss: 0.0039735049940645695 | Test loss: 0.008555757813155651\n",
            "Epoch: 190 | Loss: 0.008990185335278511 | Test loss: 0.005145937204360962\n"
          ]
        }
      ]
    },
    {
      "cell_type": "code",
      "source": [
        "# Turn model into evaluation mode\n",
        "model_1.eval()\n",
        "\n",
        "# Make predictions on test data\n",
        "with torch.inference_mode():\n",
        "  y_preds = model_1(X_test)\n",
        "\n",
        "plot_predictions(predictions=y_preds)"
      ],
      "metadata": {
        "colab": {
          "base_uri": "https://localhost:8080/",
          "height": 599
        },
        "id": "UUIHz3WitcDa",
        "outputId": "2f8e8091-5962-4f04-e610-3fed3967f57d"
      },
      "execution_count": null,
      "outputs": [
        {
          "output_type": "display_data",
          "data": {
            "text/plain": [
              "<Figure size 1000x700 with 1 Axes>"
            ],
            "image/png": "[encoded data removed]"
          },
          "metadata": {}
        }
      ]
    },
    {
      "cell_type": "code",
      "source": [
        "## 6.5 Saving and loading a trained model\n",
        "from pathlib import Path\n",
        "\n",
        "# 1. Create models directory\n",
        "MODEL_PATH = Path(\"models\")\n",
        "MODEL_PATH.mkdir(parents=True, exist_ok=True)\n",
        "\n",
        "# 2. Create model save path\n",
        "MODEL_NAME = \"01_pytorch_workflow_model_v2.pth\"\n",
        "MODEL_SAVE_PATH = MODEL_PATH / MODEL_NAME\n",
        "\n",
        "# 3. Save the model state dictionary\n",
        "torch.save(obj=model_1.state_dict(), f=MODEL_SAVE_PATH)"
      ],
      "metadata": {
        "id": "nGG1ap5iuTqG"
      },
      "execution_count": null,
      "outputs": []
    },
    {
      "cell_type": "code",
      "source": [
        "# Loading the saved model\n",
        "loaded_model_1 = LinearRegressionModelV2()\n",
        "loaded_model_1.load_state_dict(torch.load(f=MODEL_SAVE_PATH))\n",
        "\n",
        "loaded_model_1.state_dict()"
      ],
      "metadata": {
        "colab": {
          "base_uri": "https://localhost:8080/"
        },
        "id": "73o6c-p4u5ti",
        "outputId": "c45b5272-718a-4054-845d-4e7bb1698075"
      },
      "execution_count": null,
      "outputs": [
        {
          "output_type": "execute_result",
          "data": {
            "text/plain": [
              "OrderedDict([('linear_layer.weight', tensor([[0.7987]])),\n",
              "             ('linear_layer.bias', tensor([0.2095]))])"
            ]
          },
          "metadata": {},
          "execution_count": 387
        }
      ]
    },
    {
      "cell_type": "code",
      "source": [
        "# Evaluate loaded model\n",
        "loaded_model_1.eval()\n",
        "with torch.inference_mode():\n",
        "  loaded_model_1_preds = loaded_model_1(X_test)\n",
        "\n",
        "loaded_model_1_preds == y_preds"
      ],
      "metadata": {
        "colab": {
          "base_uri": "https://localhost:8080/"
        },
        "id": "REG6mktIvVRW",
        "outputId": "4e3ad4f0-5f98-460b-a233-f0a69d09b85e"
      },
      "execution_count": null,
      "outputs": [
        {
          "output_type": "execute_result",
          "data": {
            "text/plain": [
              "tensor([[True],\n",
              "        [True],\n",
              "        [True],\n",
              "        [True],\n",
              "        [True],\n",
              "        [True],\n",
              "        [True],\n",
              "        [True],\n",
              "        [True],\n",
              "        [True]])"
            ]
          },
          "metadata": {},
          "execution_count": 388
        }
      ]
    }
  ]
}